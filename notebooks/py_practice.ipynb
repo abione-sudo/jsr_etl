{
 "cells": [
  {
   "cell_type": "code",
   "execution_count": 68,
   "id": "69db0f82",
   "metadata": {},
   "outputs": [
    {
     "name": "stdout",
     "output_type": "stream",
     "text": [
      "before executing the function\n",
      "hello world\n",
      "after executing the function\n"
     ]
    }
   ],
   "source": [
    "def my_decorator(func):\n",
    "    def run(name):\n",
    "        print(\"before executing the function\")\n",
    "        func(name)\n",
    "        print(\"after executing the function\")\n",
    "        \n",
    "    return run\n",
    "\n",
    "\n",
    "\n",
    "@my_decorator\n",
    "def main_fun(name):\n",
    "   print(name)\n",
    "\n",
    "\n",
    "\n",
    "main_fun(\"hello world\")"
   ]
  },
  {
   "cell_type": "code",
   "execution_count": 54,
   "id": "0831eae9",
   "metadata": {},
   "outputs": [
    {
     "name": "stdout",
     "output_type": "stream",
     "text": [
      "   customer_id     name  order_id  amount\n",
      "7            3  Charlie     106.0   600.0\n",
      "1            1    Alice     105.0   500.0\n",
      "5            2      Bob     108.0   450.0\n"
     ]
    }
   ],
   "source": []
  },
  {
   "cell_type": "code",
   "execution_count": null,
   "id": "b8c93db2",
   "metadata": {},
   "outputs": [],
   "source": []
  }
 ],
 "metadata": {
  "kernelspec": {
   "display_name": "airflow_env",
   "language": "python",
   "name": "python3"
  },
  "language_info": {
   "codemirror_mode": {
    "name": "ipython",
    "version": 3
   },
   "file_extension": ".py",
   "mimetype": "text/x-python",
   "name": "python",
   "nbconvert_exporter": "python",
   "pygments_lexer": "ipython3",
   "version": "3.11.9"
  }
 },
 "nbformat": 4,
 "nbformat_minor": 5
}
